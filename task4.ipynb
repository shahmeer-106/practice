{
 "cells": [
  {
   "cell_type": "code",
   "execution_count": 5,
   "id": "d5dab3f1",
   "metadata": {},
   "outputs": [],
   "source": [
    "# person.py\n",
    "\n",
    "class Person:\n",
    "    def __init__(self, name):\n",
    "        self.name = name\n",
    "\n",
    "    def display(self):\n",
    "        print(f\"Name: {self.name}\")\n",
    "\n",
    "class Student(Person):\n",
    "    def __init__(self, name):\n",
    "        super().__init__(name)\n",
    "        self.courses = []\n",
    "\n",
    "    def enroll(self, course):\n",
    "        self.courses.append(course)\n",
    "        print(f\"{self.name} enrolled in {course.title}\")\n",
    "\n",
    "    def display(self):\n",
    "        super().display()\n",
    "        print(\"Courses:\", \", \".join(course.title for course in self.courses))\n",
    "\n",
    "class Course:\n",
    "    def __init__(self, title):\n",
    "        self.title = title\n",
    "\n",
    "    def display(self):\n",
    "        print(f\"Course Title: {self.title}\")\n"
   ]
  },
  {
   "cell_type": "code",
   "execution_count": null,
   "id": "c68f3907",
   "metadata": {},
   "outputs": [
    {
     "name": "stdout",
     "output_type": "stream",
     "text": [
      "Alice enrolled in Math\n",
      "Alice enrolled in History\n",
      "Name: Alice\n",
      "Courses: Math, History\n"
     ]
    }
   ],
   "source": [
    "# # main.py\n",
    "\n",
    "# from person import Student, Course\n",
    "\n",
    "s1 = Student(\"shahmeer\")\n",
    "c1 = Course(\"ashraf\")\n",
    "c2 = Course(\"sohail\")\n",
    "\n",
    "s1.enroll(c1)\n",
    "s1.enroll(c2)\n",
    "s1.display()\n"
   ]
  },
  {
   "cell_type": "code",
   "execution_count": null,
   "id": "a2ec0724",
   "metadata": {},
   "outputs": [],
   "source": []
  }
 ],
 "metadata": {
  "kernelspec": {
   "display_name": "Python 3",
   "language": "python",
   "name": "python3"
  },
  "language_info": {
   "codemirror_mode": {
    "name": "ipython",
    "version": 3
   },
   "file_extension": ".py",
   "mimetype": "text/x-python",
   "name": "python",
   "nbconvert_exporter": "python",
   "pygments_lexer": "ipython3",
   "version": "3.10.12"
  }
 },
 "nbformat": 4,
 "nbformat_minor": 5
}
