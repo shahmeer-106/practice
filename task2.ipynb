{
 "cells": [
  {
   "cell_type": "code",
   "execution_count": 4,
   "id": "ffad49d9",
   "metadata": {},
   "outputs": [
    {
     "name": "stdout",
     "output_type": "stream",
     "text": [
      "The number is prime 51\n"
     ]
    }
   ],
   "source": [
    "number =int(input(\"Enter a number: \"))\n",
    "def prime():\n",
    "    if number % 2 == 1:\n",
    "        print(f\"The number is prime {number}\")\n",
    "    else:\n",
    "        print(\"wrong number\")\n",
    "prime()"
   ]
  },
  {
   "cell_type": "code",
   "execution_count": 5,
   "id": "c21e1cbc",
   "metadata": {},
   "outputs": [
    {
     "name": "stdout",
     "output_type": "stream",
     "text": [
      "Average mark: 83.75\n",
      "Highest mark: 95\n",
      "Lowest mark: 67\n"
     ]
    }
   ],
   "source": [
    "# List of marks\n",
    "marks = [85, 78, 92, 67, 88, 76, 95, 89]\n",
    "\n",
    "# Calculate average, max, and min\n",
    "average = sum(marks) / len(marks)\n",
    "maximum = max(marks)\n",
    "minimum = min(marks)\n",
    "\n",
    "# Display results\n",
    "print(f\"Average mark: {average:.2f}\")\n",
    "print(f\"Highest mark: {maximum}\")\n",
    "print(f\"Lowest mark: {minimum}\")\n"
   ]
  },
  {
   "cell_type": "code",
   "execution_count": null,
   "id": "da0530d8",
   "metadata": {},
   "outputs": [],
   "source": []
  }
 ],
 "metadata": {
  "kernelspec": {
   "display_name": "Python 3",
   "language": "python",
   "name": "python3"
  },
  "language_info": {
   "codemirror_mode": {
    "name": "ipython",
    "version": 3
   },
   "file_extension": ".py",
   "mimetype": "text/x-python",
   "name": "python",
   "nbconvert_exporter": "python",
   "pygments_lexer": "ipython3",
   "version": "3.10.12"
  }
 },
 "nbformat": 4,
 "nbformat_minor": 5
}
