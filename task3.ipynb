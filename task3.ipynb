{
 "cells": [
  {
   "cell_type": "code",
   "execution_count": 8,
   "id": "16be6e64",
   "metadata": {},
   "outputs": [
    {
     "name": "stdout",
     "output_type": "stream",
     "text": [
      "The topper is: qadir\n"
     ]
    }
   ],
   "source": [
    "students = {\n",
    "    \"Ashraf\": {\"marks\": 85, \"subjects\": [\"Math\", \"Science\", \"English\"]},\n",
    "    \"qadir\": {\"marks\": 92, \"subjects\": [\"Math\", \"History\", \"English\"]},\n",
    "    \"shahmeer\": {\"marks\": 88, \"subjects\": [\"Physics\", \"Biology\", \"Logical Reasoning\", \"English\"]},\n",
    "}\n",
    "\n",
    "def find(students):\n",
    "    highest_marks = -1\n",
    "    name = \"\"\n",
    "    \n",
    "    \n",
    "    for student, details in students.items():\n",
    "        if details[\"marks\"] > highest_marks:\n",
    "            highest_marks = details[\"marks\"]\n",
    "            name = student\n",
    "    \n",
    "    \n",
    "    return name\n",
    "\n",
    "topper = find(students)\n",
    "print(f\"The topper is: {topper}\")\n"
   ]
  },
  {
   "cell_type": "code",
   "execution_count": null,
   "id": "50b791d5",
   "metadata": {},
   "outputs": [],
   "source": []
  }
 ],
 "metadata": {
  "kernelspec": {
   "display_name": "Python 3",
   "language": "python",
   "name": "python3"
  },
  "language_info": {
   "codemirror_mode": {
    "name": "ipython",
    "version": 3
   },
   "file_extension": ".py",
   "mimetype": "text/x-python",
   "name": "python",
   "nbconvert_exporter": "python",
   "pygments_lexer": "ipython3",
   "version": "3.10.12"
  }
 },
 "nbformat": 4,
 "nbformat_minor": 5
}
